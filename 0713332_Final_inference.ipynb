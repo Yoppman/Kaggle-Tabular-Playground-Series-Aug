{
 "cells": [
  {
   "cell_type": "markdown",
   "id": "40b5e58d",
   "metadata": {},
   "source": [
    "# Machine Learning Final Project (Inference part)"
   ]
  },
  {
   "cell_type": "code",
   "execution_count": null,
   "id": "587ed1c8",
   "metadata": {},
   "outputs": [],
   "source": [
    "!pip install colorama"
   ]
  },
  {
   "cell_type": "code",
   "execution_count": 1,
   "id": "6e0964e4",
   "metadata": {
    "_cell_guid": "b1076dfc-b9ad-4769-8c92-a6c4dae69d19",
    "_uuid": "8f2839f25d086af736a60e9eeb907d3b93b6e0e5",
    "execution": {
     "iopub.execute_input": "2023-01-07T17:37:59.992960Z",
     "iopub.status.busy": "2023-01-07T17:37:59.992038Z",
     "iopub.status.idle": "2023-01-07T17:38:05.727049Z",
     "shell.execute_reply": "2023-01-07T17:38:05.724274Z"
    },
    "papermill": {
     "duration": 5.751616,
     "end_time": "2023-01-07T17:38:05.733936",
     "exception": false,
     "start_time": "2023-01-07T17:37:59.982320",
     "status": "completed"
    },
    "tags": []
   },
   "outputs": [],
   "source": [
    "import numpy as np\n",
    "import pandas as pd\n",
    "import matplotlib.pyplot as plt\n",
    "from colorama import Fore, Back, Style\n",
    "from sklearn.preprocessing import StandardScaler\n",
    "import itertools\n",
    "from sklearn.impute import KNNImputer\n",
    "from sklearn.linear_model import LogisticRegression, HuberRegressor\n",
    "from sklearn.model_selection import StratifiedKFold, GroupKFold, train_test_split\n",
    "from sklearn.metrics import roc_auc_score, accuracy_score\n",
    "from scipy.stats import rankdata"
   ]
  },
  {
   "cell_type": "code",
   "execution_count": 2,
   "id": "089ea427",
   "metadata": {
    "execution": {
     "iopub.execute_input": "2023-01-07T17:38:05.767315Z",
     "iopub.status.busy": "2023-01-07T17:38:05.766943Z",
     "iopub.status.idle": "2023-01-07T17:38:06.152670Z",
     "shell.execute_reply": "2023-01-07T17:38:06.151561Z"
    },
    "papermill": {
     "duration": 0.403285,
     "end_time": "2023-01-07T17:38:06.156473",
     "exception": false,
     "start_time": "2023-01-07T17:38:05.753188",
     "status": "completed"
    },
    "tags": []
   },
   "outputs": [
    {
     "name": "stdout",
     "output_type": "stream",
     "text": [
      "train (26570, 26), test (20775, 25)\n",
      "failure 0: 20921, failure 1: 5649\n"
     ]
    }
   ],
   "source": [
    "train = pd.read_csv('data/train.csv')\n",
    "test = pd.read_csv('data/test.csv')\n",
    "submission = pd.read_csv('data/sample_submission.csv')\n",
    "print(f'train {train.shape}, test {test.shape}')\n",
    "print(f'failure 0: {train[train.failure==0].shape[0]}, failure 1: {train[train.failure==1].shape[0]}')"
   ]
  },
  {
   "cell_type": "code",
   "execution_count": 3,
   "id": "6b472682",
   "metadata": {
    "execution": {
     "iopub.execute_input": "2023-01-07T17:38:06.179205Z",
     "iopub.status.busy": "2023-01-07T17:38:06.178852Z",
     "iopub.status.idle": "2023-01-07T17:38:06.208472Z",
     "shell.execute_reply": "2023-01-07T17:38:06.207469Z"
    },
    "papermill": {
     "duration": 0.03952,
     "end_time": "2023-01-07T17:38:06.210690",
     "exception": false,
     "start_time": "2023-01-07T17:38:06.171170",
     "status": "completed"
    },
    "tags": []
   },
   "outputs": [],
   "source": [
    "data = pd.concat([train, test])\n",
    "data['m3_missing'] = data['measurement_3'].isnull().astype(np.int8)\n",
    "data['m4_missing'] = data['measurement_4'].isnull().astype(np.int8)\n",
    "data['m5_missing'] = data['measurement_5'].isnull().astype(np.int8)\n",
    "data['loading'] = np.log1p(data['loading'])"
   ]
  },
  {
   "cell_type": "code",
   "execution_count": 4,
   "id": "b781fc57",
   "metadata": {},
   "outputs": [
    {
     "data": {
      "text/html": [
       "<div>\n",
       "<style scoped>\n",
       "    .dataframe tbody tr th:only-of-type {\n",
       "        vertical-align: middle;\n",
       "    }\n",
       "\n",
       "    .dataframe tbody tr th {\n",
       "        vertical-align: top;\n",
       "    }\n",
       "\n",
       "    .dataframe thead th {\n",
       "        text-align: right;\n",
       "    }\n",
       "</style>\n",
       "<table border=\"1\" class=\"dataframe\">\n",
       "  <thead>\n",
       "    <tr style=\"text-align: right;\">\n",
       "      <th></th>\n",
       "      <th>id</th>\n",
       "      <th>product_code</th>\n",
       "      <th>loading</th>\n",
       "      <th>attribute_0</th>\n",
       "      <th>attribute_1</th>\n",
       "      <th>attribute_2</th>\n",
       "      <th>attribute_3</th>\n",
       "      <th>measurement_0</th>\n",
       "      <th>measurement_1</th>\n",
       "      <th>measurement_2</th>\n",
       "      <th>...</th>\n",
       "      <th>measurement_12</th>\n",
       "      <th>measurement_13</th>\n",
       "      <th>measurement_14</th>\n",
       "      <th>measurement_15</th>\n",
       "      <th>measurement_16</th>\n",
       "      <th>measurement_17</th>\n",
       "      <th>failure</th>\n",
       "      <th>m3_missing</th>\n",
       "      <th>m4_missing</th>\n",
       "      <th>m5_missing</th>\n",
       "    </tr>\n",
       "  </thead>\n",
       "  <tbody>\n",
       "    <tr>\n",
       "      <th>0</th>\n",
       "      <td>0</td>\n",
       "      <td>A</td>\n",
       "      <td>4.395683</td>\n",
       "      <td>material_7</td>\n",
       "      <td>material_8</td>\n",
       "      <td>9</td>\n",
       "      <td>5</td>\n",
       "      <td>7</td>\n",
       "      <td>8</td>\n",
       "      <td>4</td>\n",
       "      <td>...</td>\n",
       "      <td>15.193</td>\n",
       "      <td>15.029</td>\n",
       "      <td>NaN</td>\n",
       "      <td>13.034</td>\n",
       "      <td>14.684</td>\n",
       "      <td>764.100</td>\n",
       "      <td>0.0</td>\n",
       "      <td>0</td>\n",
       "      <td>0</td>\n",
       "      <td>0</td>\n",
       "    </tr>\n",
       "    <tr>\n",
       "      <th>1</th>\n",
       "      <td>1</td>\n",
       "      <td>A</td>\n",
       "      <td>4.453067</td>\n",
       "      <td>material_7</td>\n",
       "      <td>material_8</td>\n",
       "      <td>9</td>\n",
       "      <td>5</td>\n",
       "      <td>14</td>\n",
       "      <td>3</td>\n",
       "      <td>3</td>\n",
       "      <td>...</td>\n",
       "      <td>11.755</td>\n",
       "      <td>14.732</td>\n",
       "      <td>15.425</td>\n",
       "      <td>14.395</td>\n",
       "      <td>15.631</td>\n",
       "      <td>682.057</td>\n",
       "      <td>0.0</td>\n",
       "      <td>0</td>\n",
       "      <td>0</td>\n",
       "      <td>0</td>\n",
       "    </tr>\n",
       "    <tr>\n",
       "      <th>2</th>\n",
       "      <td>2</td>\n",
       "      <td>A</td>\n",
       "      <td>4.424008</td>\n",
       "      <td>material_7</td>\n",
       "      <td>material_8</td>\n",
       "      <td>9</td>\n",
       "      <td>5</td>\n",
       "      <td>12</td>\n",
       "      <td>1</td>\n",
       "      <td>5</td>\n",
       "      <td>...</td>\n",
       "      <td>13.798</td>\n",
       "      <td>16.711</td>\n",
       "      <td>18.631</td>\n",
       "      <td>14.094</td>\n",
       "      <td>17.946</td>\n",
       "      <td>663.376</td>\n",
       "      <td>0.0</td>\n",
       "      <td>0</td>\n",
       "      <td>0</td>\n",
       "      <td>0</td>\n",
       "    </tr>\n",
       "    <tr>\n",
       "      <th>3</th>\n",
       "      <td>3</td>\n",
       "      <td>A</td>\n",
       "      <td>4.625659</td>\n",
       "      <td>material_7</td>\n",
       "      <td>material_8</td>\n",
       "      <td>9</td>\n",
       "      <td>5</td>\n",
       "      <td>13</td>\n",
       "      <td>2</td>\n",
       "      <td>6</td>\n",
       "      <td>...</td>\n",
       "      <td>10.020</td>\n",
       "      <td>15.250</td>\n",
       "      <td>15.562</td>\n",
       "      <td>16.154</td>\n",
       "      <td>17.172</td>\n",
       "      <td>826.282</td>\n",
       "      <td>0.0</td>\n",
       "      <td>0</td>\n",
       "      <td>0</td>\n",
       "      <td>0</td>\n",
       "    </tr>\n",
       "    <tr>\n",
       "      <th>4</th>\n",
       "      <td>4</td>\n",
       "      <td>A</td>\n",
       "      <td>5.242064</td>\n",
       "      <td>material_7</td>\n",
       "      <td>material_8</td>\n",
       "      <td>9</td>\n",
       "      <td>5</td>\n",
       "      <td>9</td>\n",
       "      <td>2</td>\n",
       "      <td>8</td>\n",
       "      <td>...</td>\n",
       "      <td>12.428</td>\n",
       "      <td>16.182</td>\n",
       "      <td>12.760</td>\n",
       "      <td>13.153</td>\n",
       "      <td>16.412</td>\n",
       "      <td>579.885</td>\n",
       "      <td>0.0</td>\n",
       "      <td>0</td>\n",
       "      <td>0</td>\n",
       "      <td>0</td>\n",
       "    </tr>\n",
       "  </tbody>\n",
       "</table>\n",
       "<p>5 rows × 29 columns</p>\n",
       "</div>"
      ],
      "text/plain": [
       "   id product_code   loading attribute_0 attribute_1  attribute_2  \\\n",
       "0   0            A  4.395683  material_7  material_8            9   \n",
       "1   1            A  4.453067  material_7  material_8            9   \n",
       "2   2            A  4.424008  material_7  material_8            9   \n",
       "3   3            A  4.625659  material_7  material_8            9   \n",
       "4   4            A  5.242064  material_7  material_8            9   \n",
       "\n",
       "   attribute_3  measurement_0  measurement_1  measurement_2  ...  \\\n",
       "0            5              7              8              4  ...   \n",
       "1            5             14              3              3  ...   \n",
       "2            5             12              1              5  ...   \n",
       "3            5             13              2              6  ...   \n",
       "4            5              9              2              8  ...   \n",
       "\n",
       "   measurement_12  measurement_13  measurement_14  measurement_15  \\\n",
       "0          15.193          15.029             NaN          13.034   \n",
       "1          11.755          14.732          15.425          14.395   \n",
       "2          13.798          16.711          18.631          14.094   \n",
       "3          10.020          15.250          15.562          16.154   \n",
       "4          12.428          16.182          12.760          13.153   \n",
       "\n",
       "   measurement_16  measurement_17  failure  m3_missing  m4_missing  m5_missing  \n",
       "0          14.684         764.100      0.0           0           0           0  \n",
       "1          15.631         682.057      0.0           0           0           0  \n",
       "2          17.946         663.376      0.0           0           0           0  \n",
       "3          17.172         826.282      0.0           0           0           0  \n",
       "4          16.412         579.885      0.0           0           0           0  \n",
       "\n",
       "[5 rows x 29 columns]"
      ]
     },
     "execution_count": 4,
     "metadata": {},
     "output_type": "execute_result"
    }
   ],
   "source": [
    "data.head()"
   ]
  },
  {
   "cell_type": "code",
   "execution_count": 5,
   "id": "86ba72d7",
   "metadata": {},
   "outputs": [
    {
     "data": {
      "text/plain": [
       "Index(['id', 'product_code', 'loading', 'attribute_2', 'attribute_3',\n",
       "       'measurement_0', 'measurement_1', 'measurement_2', 'measurement_3',\n",
       "       'measurement_4', 'measurement_5', 'measurement_6', 'measurement_7',\n",
       "       'measurement_8', 'measurement_9', 'measurement_10', 'measurement_11',\n",
       "       'measurement_12', 'measurement_13', 'measurement_14', 'measurement_15',\n",
       "       'measurement_16', 'measurement_17', 'failure', 'm3_missing',\n",
       "       'm4_missing', 'm5_missing', 'attribute_0_material_5',\n",
       "       'attribute_0_material_7', 'attribute_1_material_5',\n",
       "       'attribute_1_material_6', 'attribute_1_material_7',\n",
       "       'attribute_1_material_8'],\n",
       "      dtype='object')"
      ]
     },
     "execution_count": 5,
     "metadata": {},
     "output_type": "execute_result"
    }
   ],
   "source": [
    "data = pd.concat([data, pd.get_dummies(data['attribute_0'])], axis=1)\n",
    "data.rename(columns={'material_5': 'attribute_0_material_5', 'material_7': 'attribute_0_material_7'}, inplace=True)\n",
    "\n",
    "data = pd.concat([data, pd.get_dummies(data['attribute_1'])], axis=1)\n",
    "data.rename(columns={'material_5': 'attribute_1_material_5', 'material_6': 'attribute_1_material_6', 'material_7': 'attribute_1_material_7' ,'material_8': 'attribute_1_material_8'}, inplace=True)\n",
    "\n",
    "data = data.drop(['attribute_0', 'attribute_1'], axis=1)\n",
    "data.columns"
   ]
  },
  {
   "cell_type": "code",
   "execution_count": 6,
   "id": "1c5533a1",
   "metadata": {
    "execution": {
     "iopub.execute_input": "2023-01-07T17:38:06.224311Z",
     "iopub.status.busy": "2023-01-07T17:38:06.223980Z",
     "iopub.status.idle": "2023-01-07T17:38:17.874047Z",
     "shell.execute_reply": "2023-01-07T17:38:17.873073Z"
    },
    "papermill": {
     "duration": 11.659942,
     "end_time": "2023-01-07T17:38:17.876741",
     "exception": false,
     "start_time": "2023-01-07T17:38:06.216799",
     "status": "completed"
    },
    "tags": []
   },
   "outputs": [
    {
     "name": "stdout",
     "output_type": "stream",
     "text": [
      "code A has 386 samples to fill nan\n",
      "Predicting the missing values for code A\n",
      "code B has 418 samples to fill nan\n",
      "Predicting the missing values for code B\n",
      "code C has 391 samples to fill nan\n",
      "Predicting the missing values for code C\n",
      "code D has 398 samples to fill nan\n",
      "Predicting the missing values for code D\n",
      "code E has 429 samples to fill nan\n",
      "Predicting the missing values for code E\n",
      "code F has 420 samples to fill nan\n",
      "Predicting the missing values for code F\n",
      "code G has 373 samples to fill nan\n",
      "Predicting the missing values for code G\n",
      "code H has 361 samples to fill nan\n",
      "Predicting the missing values for code H\n",
      "code I has 377 samples to fill nan\n",
      "Predicting the missing values for code I\n"
     ]
    }
   ],
   "source": [
    "fill_dict = {\n",
    "    'A': ['measurement_5','measurement_6','measurement_8'],\n",
    "    'B': ['measurement_4','measurement_5','measurement_7'],\n",
    "    'C': ['measurement_5','measurement_7','measurement_8','measurement_9'],\n",
    "    'D': ['measurement_5','measurement_6','measurement_7','measurement_8'],\n",
    "    'E': ['measurement_4','measurement_5','measurement_6','measurement_8'],\n",
    "    'F': ['measurement_4','measurement_5','measurement_6','measurement_7'],\n",
    "    'G': ['measurement_4','measurement_6','measurement_8','measurement_9'],\n",
    "    'H': ['measurement_4','measurement_5','measurement_7','measurement_8','measurement_9'],\n",
    "    'I': ['measurement_3','measurement_7','measurement_8']\n",
    "}\n",
    "\n",
    "feature = [f for f in test.columns if f.startswith('measurement') or f=='loading']\n",
    "\n",
    "for code in data.product_code.unique():\n",
    "    tmp = data[data.product_code==code]\n",
    "    column = fill_dict[code]\n",
    "    tmp_train = tmp[column+['measurement_17']].dropna(how='any')\n",
    "    # print((tmp[column].isnull().sum(axis=1)==0)) # True --> 沒有缺失值 , False --> 有缺失值 （對每個row進行判斷）\n",
    "    # print((tmp['measurement_17'].isnull()))  # True --> measurement_17 有缺失值, False --> 沒有缺失值\n",
    "    tmp_test = tmp[(tmp[column].isnull().sum(axis=1)==0)&(tmp['measurement_17'].isnull())] # 找到measurement 5 6 8 沒缺但 measurement 17有缺的\n",
    "    print(f\"code {code} has {len(tmp_test)} samples to fill nan\")\n",
    "    model = HuberRegressor()\n",
    "    model.fit(tmp_train[column], tmp_train['measurement_17'])\n",
    "    data.loc[(data.product_code==code)&(data[column].isnull().sum(axis=1)==0)&(data['measurement_17'].isnull()), 'measurement_17'] = model.predict(tmp_test[column]) # 填補17的缺失值\n",
    "\n",
    "    model2 = KNNImputer(n_neighbors=5)\n",
    "    print(f\"Predicting the missing values for code {code}\")\n",
    "    data.loc[data.product_code==code, feature] = model2.fit_transform(data.loc[data.product_code==code, feature]) # predict the missing values in a dataset!"
   ]
  },
  {
   "cell_type": "code",
   "execution_count": 7,
   "id": "7bb77c85",
   "metadata": {
    "execution": {
     "iopub.execute_input": "2023-01-07T17:38:17.891876Z",
     "iopub.status.busy": "2023-01-07T17:38:17.891564Z",
     "iopub.status.idle": "2023-01-07T17:38:17.898196Z",
     "shell.execute_reply": "2023-01-07T17:38:17.897138Z"
    },
    "papermill": {
     "duration": 0.0168,
     "end_time": "2023-01-07T17:38:17.900659",
     "exception": false,
     "start_time": "2023-01-07T17:38:17.883859",
     "status": "completed"
    },
    "tags": []
   },
   "outputs": [],
   "source": [
    "def _scale(train_data, val_data, test_data, feats):\n",
    "    scaler = StandardScaler()\n",
    "    \n",
    "    scaled_train = scaler.fit_transform(train_data[feats]) # fit + transform\n",
    "    scaled_val = scaler.transform(val_data[feats]) # only transform\n",
    "    scaled_test = scaler.transform(test_data[feats]) # only transform\n",
    "    \n",
    "    #back to dataframe\n",
    "    new_train = train_data.copy()\n",
    "    new_val = val_data.copy()\n",
    "    new_test = test_data.copy()\n",
    "    \n",
    "    new_train[feats] = scaled_train\n",
    "    new_val[feats] = scaled_val\n",
    "    new_test[feats] = scaled_test\n",
    "    \n",
    "    assert len(train_data) == len(new_train)\n",
    "    assert len(val_data) == len(new_val)\n",
    "    assert len(test_data) == len(new_test)\n",
    "    \n",
    "    return new_train, new_val, new_test"
   ]
  },
  {
   "cell_type": "code",
   "execution_count": 8,
   "id": "721d72a9",
   "metadata": {
    "execution": {
     "iopub.execute_input": "2023-01-07T17:38:17.914610Z",
     "iopub.status.busy": "2023-01-07T17:38:17.914352Z",
     "iopub.status.idle": "2023-01-07T17:38:17.930991Z",
     "shell.execute_reply": "2023-01-07T17:38:17.929819Z"
    },
    "papermill": {
     "duration": 0.026193,
     "end_time": "2023-01-07T17:38:17.933361",
     "exception": false,
     "start_time": "2023-01-07T17:38:17.907168",
     "status": "completed"
    },
    "tags": []
   },
   "outputs": [
    {
     "name": "stdout",
     "output_type": "stream",
     "text": [
      "(26570, 33) (20775, 33)\n"
     ]
    }
   ],
   "source": [
    "train = data[data.failure.notnull()]\n",
    "test = data[data.failure.isnull()]\n",
    "print(train.shape, test.shape)"
   ]
  },
  {
   "cell_type": "code",
   "execution_count": 9,
   "id": "faf4ef76",
   "metadata": {
    "execution": {
     "iopub.execute_input": "2023-01-07T17:38:17.948340Z",
     "iopub.status.busy": "2023-01-07T17:38:17.948086Z",
     "iopub.status.idle": "2023-01-07T17:38:17.960644Z",
     "shell.execute_reply": "2023-01-07T17:38:17.959687Z"
    },
    "papermill": {
     "duration": 0.022491,
     "end_time": "2023-01-07T17:38:17.963020",
     "exception": false,
     "start_time": "2023-01-07T17:38:17.940529",
     "status": "completed"
    },
    "tags": []
   },
   "outputs": [],
   "source": [
    "X = train.drop(['failure'], axis=1)\n",
    "y = train['failure'].astype(int)\n",
    "test = test.drop(['failure'], axis=1)"
   ]
  },
  {
   "cell_type": "markdown",
   "id": "e23a7a3d",
   "metadata": {},
   "source": [
    "#### Three combinations of features"
   ]
  },
  {
   "cell_type": "code",
   "execution_count": 10,
   "id": "7e327c2f",
   "metadata": {},
   "outputs": [],
   "source": [
    "select_feature_1 = ['loading', 'measurement_17', 'measurement_2', 'm3_missing','m5_missing', 'measurement_4', 'attribute_0_material_5', 'attribute_0_material_7','m4_missing']\n",
    "select_feature_2 = ['measurement_1', 'measurement_2', 'loading', 'measurement_17']\n",
    "select_feature_3 = ['m3_missing', 'm5_missing', 'measurement_2', 'loading', 'measurement_17']\n",
    "select_feature = [select_feature_1, select_feature_2, select_feature_3]"
   ]
  },
  {
   "cell_type": "markdown",
   "id": "f4111f7c",
   "metadata": {},
   "source": [
    "#### Training Process and Inference"
   ]
  },
  {
   "cell_type": "code",
   "execution_count": 11,
   "id": "d9946d13",
   "metadata": {},
   "outputs": [
    {
     "name": "stdout",
     "output_type": "stream",
     "text": [
      "Training with feature ['loading', 'measurement_17', 'measurement_2', 'm3_missing', 'm5_missing', 'measurement_4', 'attribute_0_material_5', 'attribute_0_material_7', 'm4_missing']\n",
      "\u001b[32m\u001b[1mAverage auc = 0.59202, Average acc = 0.78739\u001b[0m\n",
      "\u001b[31m\u001b[1mOOF auc = 0.59189, OOF acc = 0.78739\u001b[0m\n"
     ]
    },
    {
     "data": {
      "image/png": "[encoded data removed]",
      "text/plain": [
       "<Figure size 640x480 with 1 Axes>"
      ]
     },
     "metadata": {},
     "output_type": "display_data"
    },
    {
     "name": "stdout",
     "output_type": "stream",
     "text": [
      "Training with feature ['measurement_1', 'measurement_2', 'loading', 'measurement_17']\n",
      "\u001b[32m\u001b[1mAverage auc = 0.59031, Average acc = 0.78739\u001b[0m\n",
      "\u001b[31m\u001b[1mOOF auc = 0.5902, OOF acc = 0.78739\u001b[0m\n"
     ]
    },
    {
     "data": {
      "image/png": "[encoded data removed]",
      "text/plain": [
       "<Figure size 640x480 with 1 Axes>"
      ]
     },
     "metadata": {},
     "output_type": "display_data"
    },
    {
     "name": "stdout",
     "output_type": "stream",
     "text": [
      "Training with feature ['m3_missing', 'm5_missing', 'measurement_2', 'loading', 'measurement_17']\n",
      "\u001b[32m\u001b[1mAverage auc = 0.59093, Average acc = 0.78739\u001b[0m\n",
      "\u001b[31m\u001b[1mOOF auc = 0.59083, OOF acc = 0.78739\u001b[0m\n"
     ]
    },
    {
     "data": {
      "image/png": "[encoded data removed]",
      "text/plain": [
       "<Figure size 640x480 with 1 Axes>"
      ]
     },
     "metadata": {},
     "output_type": "display_data"
    }
   ],
   "source": [
    "lr_test_data = []\n",
    "\n",
    "for i in range(3):\n",
    "    print(f\"Training with feature {select_feature[i]}\")\n",
    "    lr_oof_1 = np.zeros(len(train))\n",
    "    lr_oof_2 = np.zeros(len(train))\n",
    "    lr_test = np.zeros(len(test))\n",
    "    lr_auc = 0\n",
    "    lr_acc = 0\n",
    "    importance_list = []\n",
    "\n",
    "    kf = StratifiedKFold(n_splits=5, shuffle=True, random_state=0)\n",
    "    for fold_idx, (train_idx, val_idx) in enumerate(kf.split(X, y)):\n",
    "        x_train, x_val = X.iloc[train_idx], X.iloc[val_idx]\n",
    "        y_train, y_val = y.iloc[train_idx], y.iloc[val_idx]\n",
    "        x_test = test.copy()\n",
    "        \n",
    "        x_train, x_val, x_test = _scale(x_train, x_val, x_test, select_feature[i])\n",
    "        \n",
    "        model = LogisticRegression(max_iter=1000, C=1e-5, penalty='l2', solver='newton-cg') # , class_weight='balanced'\n",
    "        model.fit(x_train[select_feature[i]], y_train)\n",
    "        importance_list.append(model.coef_.ravel())\n",
    "\n",
    "        val_preds = model.predict_proba(x_val[select_feature[i]])[:, 1]\n",
    "        lr_auc += roc_auc_score(y_val, val_preds) / 5\n",
    "        y_preds = model.predict(x_val[select_feature[i]])\n",
    "        lr_acc += accuracy_score(y_val, y_preds) / 5\n",
    "        lr_test += model.predict_proba(x_test[select_feature[i]])[:, 1] / 5\n",
    "        lr_oof_1[val_idx] = val_preds\n",
    "        lr_oof_2[val_idx] = y_preds\n",
    "\n",
    "    lr_test_data.append(lr_test)\n",
    "    print(f\"{Fore.GREEN}{Style.BRIGHT}Average auc = {round(lr_auc, 5)}, Average acc = {round(lr_acc, 5)}{Style.RESET_ALL}\")\n",
    "    print(f\"{Fore.RED}{Style.BRIGHT}OOF auc = {round(roc_auc_score(y, lr_oof_1), 5)}, OOF acc = {round(accuracy_score(y, lr_oof_2), 5)}{Style.RESET_ALL}\")\n",
    "\n",
    "    importance_df = pd.DataFrame(np.array(importance_list).T, index=x_train[select_feature[i]].columns)\n",
    "    importance_df['mean'] = importance_df.mean(axis=1).abs()\n",
    "    importance_df['feature'] = x_train[select_feature[i]].columns\n",
    "    importance_df = importance_df.sort_values('mean', ascending=False).reset_index().head(20)\n",
    "    plt.barh(importance_df.index, importance_df['mean'], color='lightgreen')\n",
    "    plt.gca().invert_yaxis()\n",
    "    plt.yticks(ticks=importance_df.index, labels=importance_df['feature'])\n",
    "    plt.title('LogisticRegression feature importances')\n",
    "    plt.show()"
   ]
  },
  {
   "cell_type": "code",
   "execution_count": 12,
   "id": "36eee49a",
   "metadata": {
    "execution": {
     "iopub.execute_input": "2023-01-07T17:38:18.970653Z",
     "iopub.status.busy": "2023-01-07T17:38:18.969745Z",
     "iopub.status.idle": "2023-01-07T17:38:18.975601Z",
     "shell.execute_reply": "2023-01-07T17:38:18.974639Z"
    },
    "papermill": {
     "duration": 0.016375,
     "end_time": "2023-01-07T17:38:18.977715",
     "exception": false,
     "start_time": "2023-01-07T17:38:18.961340",
     "status": "completed"
    },
    "tags": []
   },
   "outputs": [],
   "source": [
    "submission['lr0'] = lr_test_data[0]\n",
    "submission['lr1'] = lr_test_data[1]\n",
    "submission['lr2'] = lr_test_data[2]"
   ]
  },
  {
   "cell_type": "markdown",
   "id": "ba6cf128",
   "metadata": {},
   "source": [
    "### Generate submission.csv"
   ]
  },
  {
   "cell_type": "code",
   "execution_count": 13,
   "id": "c976013d",
   "metadata": {
    "execution": {
     "iopub.execute_input": "2023-01-07T17:38:21.864564Z",
     "iopub.status.busy": "2023-01-07T17:38:21.863731Z",
     "iopub.status.idle": "2023-01-07T17:38:21.880177Z",
     "shell.execute_reply": "2023-01-07T17:38:21.879228Z"
    },
    "papermill": {
     "duration": 0.028066,
     "end_time": "2023-01-07T17:38:21.882491",
     "exception": false,
     "start_time": "2023-01-07T17:38:21.854425",
     "status": "completed"
    },
    "tags": []
   },
   "outputs": [
    {
     "data": {
      "text/html": [
       "<div>\n",
       "<style scoped>\n",
       "    .dataframe tbody tr th:only-of-type {\n",
       "        vertical-align: middle;\n",
       "    }\n",
       "\n",
       "    .dataframe tbody tr th {\n",
       "        vertical-align: top;\n",
       "    }\n",
       "\n",
       "    .dataframe thead th {\n",
       "        text-align: right;\n",
       "    }\n",
       "</style>\n",
       "<table border=\"1\" class=\"dataframe\">\n",
       "  <thead>\n",
       "    <tr style=\"text-align: right;\">\n",
       "      <th></th>\n",
       "      <th>id</th>\n",
       "      <th>failure</th>\n",
       "      <th>lr0</th>\n",
       "      <th>lr1</th>\n",
       "      <th>lr2</th>\n",
       "      <th>rank0</th>\n",
       "      <th>rank1</th>\n",
       "      <th>rank2</th>\n",
       "    </tr>\n",
       "  </thead>\n",
       "  <tbody>\n",
       "    <tr>\n",
       "      <th>0</th>\n",
       "      <td>26570</td>\n",
       "      <td>8253.1</td>\n",
       "      <td>0.211587</td>\n",
       "      <td>0.212173</td>\n",
       "      <td>0.212190</td>\n",
       "      <td>7573.0</td>\n",
       "      <td>8719.0</td>\n",
       "      <td>8694.0</td>\n",
       "    </tr>\n",
       "    <tr>\n",
       "      <th>1</th>\n",
       "      <td>26571</td>\n",
       "      <td>4033.6</td>\n",
       "      <td>0.210250</td>\n",
       "      <td>0.211136</td>\n",
       "      <td>0.211116</td>\n",
       "      <td>3118.0</td>\n",
       "      <td>4697.0</td>\n",
       "      <td>4591.0</td>\n",
       "    </tr>\n",
       "    <tr>\n",
       "      <th>2</th>\n",
       "      <td>26572</td>\n",
       "      <td>6372.5</td>\n",
       "      <td>0.211115</td>\n",
       "      <td>0.211639</td>\n",
       "      <td>0.211764</td>\n",
       "      <td>5810.0</td>\n",
       "      <td>6502.0</td>\n",
       "      <td>6993.0</td>\n",
       "    </tr>\n",
       "    <tr>\n",
       "      <th>3</th>\n",
       "      <td>26573</td>\n",
       "      <td>7065.1</td>\n",
       "      <td>0.211252</td>\n",
       "      <td>0.211867</td>\n",
       "      <td>0.211956</td>\n",
       "      <td>6292.0</td>\n",
       "      <td>7433.0</td>\n",
       "      <td>7728.0</td>\n",
       "    </tr>\n",
       "    <tr>\n",
       "      <th>4</th>\n",
       "      <td>26574</td>\n",
       "      <td>19864.6</td>\n",
       "      <td>0.215301</td>\n",
       "      <td>0.216015</td>\n",
       "      <td>0.216289</td>\n",
       "      <td>19435.0</td>\n",
       "      <td>20084.0</td>\n",
       "      <td>20218.0</td>\n",
       "    </tr>\n",
       "  </tbody>\n",
       "</table>\n",
       "</div>"
      ],
      "text/plain": [
       "      id  failure       lr0       lr1       lr2    rank0    rank1    rank2\n",
       "0  26570   8253.1  0.211587  0.212173  0.212190   7573.0   8719.0   8694.0\n",
       "1  26571   4033.6  0.210250  0.211136  0.211116   3118.0   4697.0   4591.0\n",
       "2  26572   6372.5  0.211115  0.211639  0.211764   5810.0   6502.0   6993.0\n",
       "3  26573   7065.1  0.211252  0.211867  0.211956   6292.0   7433.0   7728.0\n",
       "4  26574  19864.6  0.215301  0.216015  0.216289  19435.0  20084.0  20218.0"
      ]
     },
     "execution_count": 13,
     "metadata": {},
     "output_type": "execute_result"
    }
   ],
   "source": [
    "submission['rank0'] = rankdata(submission['lr0'])\n",
    "submission['rank1'] = rankdata(submission['lr1'])\n",
    "submission['rank2'] = rankdata(submission['lr2'])\n",
    "\n",
    "# Ensemble the three models\n",
    "submission['failure'] = submission['rank0']*0.4 + submission['rank1']*0.3 + submission['rank2']*0.3\n",
    "\n",
    "# Generate submission.csv\n",
    "submission[['id', 'failure']].to_csv('0713332_final_submission.csv', index=False)\n",
    "\n",
    "# head\n",
    "submission.head()"
   ]
  },
  {
   "cell_type": "markdown",
   "id": "3bc45d64",
   "metadata": {},
   "source": [
    "### My Ensemble models' selected features"
   ]
  },
  {
   "cell_type": "markdown",
   "id": "e25f339f",
   "metadata": {},
   "source": [
    "```\n",
    "model_1_select_feature = ['loading', 'measurement_17', 'measurement_2', 'm3_missing','m5_missing', 'measurement_4', 'attribute_0_material_5', 'attribute_0_material_7','m4_missing']\n",
    "model_2_select_feature = ['measurement_1', 'measurement_2', 'loading', 'measurement_17']\n",
    "model_3_select_feature = ['m3_missing', 'm5_missing', 'measurement_2', 'loading', 'measurement_17']\n",
    "```"
   ]
  },
  {
   "cell_type": "markdown",
   "id": "035113e8",
   "metadata": {},
   "source": []
  }
 ],
 "metadata": {
  "kernelspec": {
   "display_name": "Python 3.9.6 64-bit",
   "language": "python",
   "name": "python3"
  },
  "language_info": {
   "codemirror_mode": {
    "name": "ipython",
    "version": 3
   },
   "file_extension": ".py",
   "mimetype": "text/x-python",
   "name": "python",
   "nbconvert_exporter": "python",
   "pygments_lexer": "ipython3",
   "version": "3.9.6"
  },
  "papermill": {
   "default_parameters": {},
   "duration": 34.4146,
   "end_time": "2023-01-07T17:38:23.275134",
   "environment_variables": {},
   "exception": null,
   "input_path": "__notebook__.ipynb",
   "output_path": "__notebook__.ipynb",
   "parameters": {},
   "start_time": "2023-01-07T17:37:48.860534",
   "version": "2.3.4"
  },
  "vscode": {
   "interpreter": {
    "hash": "31f2aee4e71d21fbe5cf8b01ff0e069b9275f58929596ceb00d14d90e3e16cd6"
   }
  }
 },
 "nbformat": 4,
 "nbformat_minor": 5
}
